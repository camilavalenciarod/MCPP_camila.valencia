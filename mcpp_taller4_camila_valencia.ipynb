{
 "cells": [
  {
   "cell_type": "markdown",
   "metadata": {},
   "source": [
    "# Taller 4\n",
    "Métodos Computacionales para Políticas Públicas - URosario\n",
    "\n",
    "**Entrega: viernes 2-sep-2016 11:59 PM**"
   ]
  },
  {
   "cell_type": "markdown",
   "metadata": {},
   "source": [
    "<div class=\"alert alert-success\">\n",
    "**[Camila Valencia]** <br><br>\n",
    "[camila.valencia@urosario.edu.co]\n",
    "</div>"
   ]
  },
  {
   "cell_type": "markdown",
   "metadata": {},
   "source": [
    "## Instrucciones:\n",
    "- Guarde una copia de este *Jupyter Notebook* en su computador, idealmente en una carpeta destinada al material del curso.\n",
    "- Modifique el nombre del archivo del *notebook*, agregando al final un guión inferior y su nombre y apellido, separados estos últimos por otro guión inferior. Por ejemplo, mi *notebook* se llamaría: mcpp_taller4_santiago_matallana\n",
    "- Marque el *notebook* con su nombre y e-mail en el bloque verde arriba. Reemplace el texto \"[Su nombre acá]\" con su nombre y apellido. Similar para su e-mail.\n",
    "- Desarrolle la totalidad del taller sobre este *notebook*, insertando las celdas que sea necesario debajo de cada pregunta. Haga buen uso de las celdas para código y de las celdas tipo *markdown* según el caso.\n",
    "- Recuerde salvar periódicamente sus avances.\n",
    "- Cuando termine el taller:\n",
    "    1. Descárguelo en PDF.\n",
    "    2. Suba los dos archivos (.pdf y .ipynb) a su repositorio en GitHub antes de la fecha y hora límites.\n",
    "\n",
    "(Todos los ejercicios tienen el mismo valor.)"
   ]
  },
  {
   "cell_type": "markdown",
   "metadata": {},
   "source": [
    "---"
   ]
  },
  {
   "cell_type": "markdown",
   "metadata": {},
   "source": [
    "## Zelle, Exercises 6.8 (p. 159):\n",
    "\n",
    "- True/False: 1-10\n",
    "- Multiple choice: 2, 3, 6, 7, 10\n",
    "- Programming Exercises: 1, 3, 4, 11, 12, 13"
   ]
  },
  {
   "cell_type": "markdown",
   "metadata": {},
   "source": [
    "# True/False"
   ]
  },
  {
   "cell_type": "markdown",
   "metadata": {},
   "source": [
    "\n",
    "1. False\n",
    "2. False\n",
    "3. True\n",
    "4. True\n",
    "5. False\n",
    "6. False\n",
    "7. False\n",
    "8. True\n",
    "9. True\n",
    "10. False\n",
    "\n",
    "\n"
   ]
  },
  {
   "cell_type": "markdown",
   "metadata": {},
   "source": [
    "# Multiple Choice"
   ]
  },
  {
   "cell_type": "markdown",
   "metadata": {},
   "source": [
    "\n",
    "2. a\n",
    "3. a\n",
    "6. a\n",
    "7. d\n",
    "10. a"
   ]
  },
  {
   "cell_type": "markdown",
   "metadata": {},
   "source": [
    "# Programming Exercises"
   ]
  },
  {
   "cell_type": "markdown",
   "metadata": {},
   "source": [
    "#### 1. Write a program to print the lyrics of the song \"Old MacDonald\". Your program should print the lyrics for five different animals.\n"
   ]
  },
  {
   "cell_type": "code",
   "execution_count": 1,
   "metadata": {
    "collapsed": false
   },
   "outputs": [
    {
     "name": "stdout",
     "output_type": "stream",
     "text": [
      "Old MacDonald had a farm, Ee-igh, Ee-igh, Oh! \n",
      "And on that farm he had a  chick , Ee-igh, Ee-igh, Oh! \n",
      "With a  chick , chick  here and a  chick , chick there. \n",
      "Here a  chick , there a chick , everywhere a  chick , chick . \n",
      "Old MacDonald had a farm, Ee-igh, Ee-igh, Oh!\n",
      "Old MacDonald had a farm, Ee-igh, Ee-igh, Oh! \n",
      "And on that farm he had a  duck , Ee-igh, Ee-igh, Oh! \n",
      "With a  quack , quack  here and a  quack , quack there. \n",
      "Here a  quack , there a quack , everywhere a  quack , quack . \n",
      "Old MacDonald had a farm, Ee-igh, Ee-igh, Oh!\n",
      "Old MacDonald had a farm, Ee-igh, Ee-igh, Oh! \n",
      "And on that farm he had a  cat , Ee-igh, Ee-igh, Oh! \n",
      "With a  meow , meow  here and a  meow , meow there. \n",
      "Here a  meow , there a meow , everywhere a  meow , meow . \n",
      "Old MacDonald had a farm, Ee-igh, Ee-igh, Oh!\n",
      "Old MacDonald had a farm, Ee-igh, Ee-igh, Oh! \n",
      "And on that farm he had a  dog , Ee-igh, Ee-igh, Oh! \n",
      "With a  wow , wow  here and a  wow , wow there. \n",
      "Here a  wow , there a wow , everywhere a  wow , wow . \n",
      "Old MacDonald had a farm, Ee-igh, Ee-igh, Oh!\n",
      "Old MacDonald had a farm, Ee-igh, Ee-igh, Oh! \n",
      "And on that farm he had a  sheep , Ee-igh, Ee-igh, Oh! \n",
      "With a  baa , baa  here and a  baa , baa there. \n",
      "Here a  baa , there a baa , everywhere a  baa , baa . \n",
      "Old MacDonald had a farm, Ee-igh, Ee-igh, Oh!\n"
     ]
    }
   ],
   "source": [
    "\n",
    "\n",
    "def sing (animal, sound):\n",
    "    print(\"Old MacDonald had a farm, Ee-igh, Ee-igh, Oh! \\nAnd on that farm he had a \" , animal,\", Ee-igh, Ee-igh, Oh! \\nWith a \", sound , \",\" , sound , \" here and a \", sound , \",\", sound , \"there. \\nHere a \" , sound , \", there a\" , sound ,  \", everywhere a \" , sound , \",\" , sound ,\". \\nOld MacDonald had a farm, Ee-igh, Ee-igh, Oh!\")\n",
    "\n",
    "animals=[ \"chick\", \"duck\", \"cat\", \"dog\", \"sheep\"]\n",
    "sounds=[\"chick\", \"quack\", \"meow\", \"wow\", \"baa\"]\n",
    "    \n",
    "for i in list(range(len(animals))):\n",
    "    cancion= sing(animals[i],sounds[i])"
   ]
  },
  {
   "cell_type": "markdown",
   "metadata": {
    "collapsed": true
   },
   "source": [
    "#### 3. Write definitions for these functions:\n",
    "\n",
    "##### sphereArea(radius) Returns the surface area of a sphere having the given radius.\n",
    "\n",
    "##### sphereVolume  Returns the volumen of a sphere having the given radius.\n",
    "\n",
    "##### Use your functions to solve programming excercise 1 from chapter 3.\n",
    "\n",
    "##### Write a program to calculate the volume and surface area of a sphere from its radius, given as input.\n",
    "\n"
   ]
  },
  {
   "cell_type": "code",
   "execution_count": 9,
   "metadata": {
    "collapsed": true
   },
   "outputs": [],
   "source": [
    "pi=3.14159265359\n",
    "\n",
    "def sphereVolume(r):\n",
    "    volume = (4/3)*pi*(r**3)\n",
    "    return volume\n",
    "\n",
    "def sphereArea(r):\n",
    "    area = 4*pi*(r**2)\n",
    "    return area\n",
    "\n"
   ]
  },
  {
   "cell_type": "code",
   "execution_count": 10,
   "metadata": {
    "collapsed": false
   },
   "outputs": [
    {
     "data": {
      "text/plain": [
       "12.56637061436"
      ]
     },
     "execution_count": 10,
     "metadata": {},
     "output_type": "execute_result"
    }
   ],
   "source": [
    "sphereArea(1)"
   ]
  },
  {
   "cell_type": "code",
   "execution_count": 11,
   "metadata": {
    "collapsed": false
   },
   "outputs": [
    {
     "data": {
      "text/plain": [
       "4.188790204786667"
      ]
     },
     "execution_count": 11,
     "metadata": {},
     "output_type": "execute_result"
    }
   ],
   "source": [
    "sphereVolume(1)"
   ]
  },
  {
   "cell_type": "markdown",
   "metadata": {},
   "source": [
    "#### 4. Write definitions for the following two functions:\n",
    "\n",
    "##### sumN(n) returns the sum of the first n natural numbers\n",
    "\n",
    "##### sumNcubes(n) returns the sum of cubes of the first n natural numbers\n"
   ]
  },
  {
   "cell_type": "code",
   "execution_count": 14,
   "metadata": {
    "collapsed": true
   },
   "outputs": [],
   "source": [
    "def sumN(n):\n",
    "    m=0\n",
    "    for i in range (n+1):\n",
    "        m=m+i\n",
    "        \n",
    "    return m"
   ]
  },
  {
   "cell_type": "code",
   "execution_count": 19,
   "metadata": {
    "collapsed": false
   },
   "outputs": [
    {
     "data": {
      "text/plain": [
       "6"
      ]
     },
     "execution_count": 19,
     "metadata": {},
     "output_type": "execute_result"
    }
   ],
   "source": [
    "sumN(3)"
   ]
  },
  {
   "cell_type": "code",
   "execution_count": 17,
   "metadata": {
    "collapsed": true
   },
   "outputs": [],
   "source": [
    "def sumNcubes(n):\n",
    "    m=0\n",
    "    for i in range (n+1):\n",
    "        m=m+(i**3)\n",
    "    return m"
   ]
  },
  {
   "cell_type": "code",
   "execution_count": 18,
   "metadata": {
    "collapsed": false
   },
   "outputs": [
    {
     "data": {
      "text/plain": [
       "36"
      ]
     },
     "execution_count": 18,
     "metadata": {},
     "output_type": "execute_result"
    }
   ],
   "source": [
    "sumNcubes(3)"
   ]
  },
  {
   "cell_type": "markdown",
   "metadata": {},
   "source": [
    "#### 11. Write ans test a function to meet this specification\n",
    "\n",
    "##### squareEach(nums) nums is a list of numbers. Modifies the list by squaring each entry."
   ]
  },
  {
   "cell_type": "code",
   "execution_count": 29,
   "metadata": {
    "collapsed": true
   },
   "outputs": [],
   "source": [
    "\n",
    "def squareEach(nums):\n",
    "    for i in range(len(nums)):\n",
    "        nums[i]=nums[i]**2\n",
    "    return nums"
   ]
  },
  {
   "cell_type": "code",
   "execution_count": 30,
   "metadata": {
    "collapsed": false
   },
   "outputs": [
    {
     "data": {
      "text/plain": [
       "[4, 9, 16, 25, 36, 49]"
      ]
     },
     "execution_count": 30,
     "metadata": {},
     "output_type": "execute_result"
    }
   ],
   "source": [
    "nums=[2,3,4,5,6,7]\n",
    "squareEach(nums)"
   ]
  },
  {
   "cell_type": "markdown",
   "metadata": {},
   "source": [
    "#### 12. Write ans test a function to meet this specification\n",
    "##### sumList(nums) nums is a list of numbers. Returns the sum of the numbers in the list."
   ]
  },
  {
   "cell_type": "code",
   "execution_count": 31,
   "metadata": {
    "collapsed": true
   },
   "outputs": [],
   "source": [
    "def sumList(nums):\n",
    "    x=0\n",
    "    for i in range(len(nums)):\n",
    "        x=x+nums[i]\n",
    "    return x"
   ]
  },
  {
   "cell_type": "code",
   "execution_count": 32,
   "metadata": {
    "collapsed": false
   },
   "outputs": [
    {
     "data": {
      "text/plain": [
       "27"
      ]
     },
     "execution_count": 32,
     "metadata": {},
     "output_type": "execute_result"
    }
   ],
   "source": [
    "nums=[2,3,4,5,6,7]\n",
    "sumList(nums)"
   ]
  },
  {
   "cell_type": "markdown",
   "metadata": {},
   "source": [
    "#### 13. Write ans test a function to meet this specification \n",
    "##### toNumbers(strList) strList is a list of strings, each of which represents a number. Modifies each entry in the list by converting it to a number."
   ]
  },
  {
   "cell_type": "code",
   "execution_count": 33,
   "metadata": {
    "collapsed": true
   },
   "outputs": [],
   "source": [
    "def toNumbers(strList):\n",
    "    for i in range(len(strList)):\n",
    "        strList[i]=ord(strList[i])\n",
    "    return strList"
   ]
  },
  {
   "cell_type": "code",
   "execution_count": 37,
   "metadata": {
    "collapsed": false
   },
   "outputs": [
    {
     "data": {
      "text/plain": [
       "[109, 112, 122, 97]"
      ]
     },
     "execution_count": 37,
     "metadata": {},
     "output_type": "execute_result"
    }
   ],
   "source": [
    "lista = [\"m\", \"p\", \"z\", \"a\"]\n",
    "toNumbers(lista)"
   ]
  }
 ],
 "metadata": {
  "anaconda-cloud": {},
  "kernelspec": {
   "display_name": "Python [Root]",
   "language": "python",
   "name": "Python [Root]"
  },
  "language_info": {
   "codemirror_mode": {
    "name": "ipython",
    "version": 3
   },
   "file_extension": ".py",
   "mimetype": "text/x-python",
   "name": "python",
   "nbconvert_exporter": "python",
   "pygments_lexer": "ipython3",
   "version": "3.5.2"
  }
 },
 "nbformat": 4,
 "nbformat_minor": 0
}
