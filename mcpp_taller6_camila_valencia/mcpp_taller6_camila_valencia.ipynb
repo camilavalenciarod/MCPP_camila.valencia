{
 "cells": [
  {
   "cell_type": "markdown",
   "metadata": {},
   "source": [
    "# Taller 6\n",
    "Métodos Computacionales para Políticas Públicas - URosario\n",
    "\n",
    "**Entrega: viernes 30-sep-2016 11:59 PM**"
   ]
  },
  {
   "cell_type": "markdown",
   "metadata": {},
   "source": [
    "<div class=\"alert alert-success\">\n",
    "**[Camila Valencia]** <br><br>\n",
    "[camila.valencia@urosario.edu.co]\n",
    "</div>"
   ]
  },
  {
   "cell_type": "markdown",
   "metadata": {},
   "source": [
    "## Instrucciones:\n",
    "- Guarde una copia de este *Jupyter Notebook* en su computador, idealmente en una carpeta destinada al material del curso.\n",
    "- Modifique el nombre del archivo del *notebook*, agregando al final un guión inferior y su nombre y apellido, separados estos últimos por otro guión inferior. Por ejemplo, mi *notebook* se llamaría: mcpp_taller6_santiago_matallana\n",
    "- Marque el *notebook* con su nombre y e-mail en el bloque verde arriba. Reemplace el texto \"[Su nombre acá]\" con su nombre y apellido. Similar para su e-mail.\n",
    "- Desarrolle la totalidad del taller sobre este *notebook*, insertando las celdas que sea necesario debajo de cada pregunta. Haga buen uso de las celdas para código y de las celdas tipo *markdown* según el caso.\n",
    "- Recuerde salvar periódicamente sus avances.\n",
    "- Cuando termine el taller:\n",
    "    1. Descárguelo en PDF. Si tiene algún problema con la conversión, descárguelo en HTML.\n",
    "    2. Suba todos los archivos a su repositorio en GitHub, en una carpeta destinada exclusivamente para este taller, antes de la fecha y hora límites.\n",
    "\n",
    "(Todos los ejercicios tienen el mismo valor.)"
   ]
  },
  {
   "cell_type": "markdown",
   "metadata": {},
   "source": [
    "---"
   ]
  },
  {
   "cell_type": "markdown",
   "metadata": {},
   "source": [
    "### Resuelva las partes 1 y 3 de [este documento](http://www.math.pitt.edu/~sussmanm/3040Summer14/exercisesII.pdf)."
   ]
  },
  {
   "cell_type": "markdown",
   "metadata": {},
   "source": [
    "#### Numpy practice\n",
    "Start up Python (best to use Spyder) and use it to answer the following ques-\n",
    "tions. Use the following imports:"
   ]
  },
  {
   "cell_type": "code",
   "execution_count": 1,
   "metadata": {
    "collapsed": true
   },
   "outputs": [],
   "source": [
    "\n",
    "import numpy as np\n",
    "import scipy.linalg as la\n",
    "import matplotlib.pyplot as plt"
   ]
  },
  {
   "cell_type": "markdown",
   "metadata": {},
   "source": [
    "Choose a value and set the variable x to that value."
   ]
  },
  {
   "cell_type": "code",
   "execution_count": 2,
   "metadata": {
    "collapsed": false
   },
   "outputs": [
    {
     "data": {
      "text/plain": [
       "55"
      ]
     },
     "execution_count": 2,
     "metadata": {},
     "output_type": "execute_result"
    }
   ],
   "source": [
    "x=55\n",
    "x"
   ]
  },
  {
   "cell_type": "markdown",
   "metadata": {},
   "source": [
    "What is command to compute the square of x? Its cube?"
   ]
  },
  {
   "cell_type": "code",
   "execution_count": 3,
   "metadata": {
    "collapsed": false
   },
   "outputs": [
    {
     "data": {
      "text/plain": [
       "3025"
      ]
     },
     "execution_count": 3,
     "metadata": {},
     "output_type": "execute_result"
    }
   ],
   "source": [
    "np.square(x)"
   ]
  },
  {
   "cell_type": "markdown",
   "metadata": {},
   "source": [
    "Choose an angle and set the variable theta to its value (a number)."
   ]
  },
  {
   "cell_type": "code",
   "execution_count": 4,
   "metadata": {
    "collapsed": false
   },
   "outputs": [
    {
     "data": {
      "text/plain": [
       "45"
      ]
     },
     "execution_count": 4,
     "metadata": {},
     "output_type": "execute_result"
    }
   ],
   "source": [
    "theta = 45\n",
    "theta"
   ]
  },
  {
   "cell_type": "markdown",
   "metadata": {},
   "source": [
    "What is sin (theta)? cos(theta)? Angles can be measured in degrees or radians.\n",
    "Which of these are being used used?"
   ]
  },
  {
   "cell_type": "raw",
   "metadata": {},
   "source": [
    "Los input de las funciones seno y coseno son radianes, lo cual si tengo grados puedo usar la funcion degree2rad.()"
   ]
  },
  {
   "cell_type": "code",
   "execution_count": 5,
   "metadata": {
    "collapsed": false
   },
   "outputs": [
    {
     "data": {
      "text/plain": [
       "0.78539816339744828"
      ]
     },
     "execution_count": 5,
     "metadata": {},
     "output_type": "execute_result"
    }
   ],
   "source": [
    "pi= np.pi\n",
    "theta= np.deg2rad(theta)\n",
    "theta"
   ]
  },
  {
   "cell_type": "code",
   "execution_count": 6,
   "metadata": {
    "collapsed": false
   },
   "outputs": [
    {
     "data": {
      "text/plain": [
       "0.70710678118654757"
      ]
     },
     "execution_count": 6,
     "metadata": {},
     "output_type": "execute_result"
    }
   ],
   "source": [
    "np.sin(theta)"
   ]
  },
  {
   "cell_type": "code",
   "execution_count": 7,
   "metadata": {
    "collapsed": false
   },
   "outputs": [
    {
     "data": {
      "text/plain": [
       "0.70710678118654757"
      ]
     },
     "execution_count": 7,
     "metadata": {},
     "output_type": "execute_result"
    }
   ],
   "source": [
    "np.cos(theta)\n"
   ]
  },
  {
   "cell_type": "markdown",
   "metadata": {},
   "source": [
    "Use the np.linspace function to create a row vector called meshPoints containing exactly 500 values with values evenly spaced between -1 and 1."
   ]
  },
  {
   "cell_type": "code",
   "execution_count": 8,
   "metadata": {
    "collapsed": false
   },
   "outputs": [
    {
     "data": {
      "text/plain": [
       "array([ -1.00000000e+00,  -9.75951904e-01,  -9.51903808e-01,\n",
       "        -9.27855711e-01,  -9.03807615e-01,  -8.79759519e-01,\n",
       "        -8.55711423e-01,  -8.31663327e-01,  -8.07615230e-01,\n",
       "        -7.83567134e-01,  -7.59519038e-01,  -7.35470942e-01,\n",
       "        -7.11422846e-01,  -6.87374749e-01,  -6.63326653e-01,\n",
       "        -6.39278557e-01,  -6.15230461e-01,  -5.91182365e-01,\n",
       "        -5.67134269e-01,  -5.43086172e-01,  -5.19038076e-01,\n",
       "        -4.94989980e-01,  -4.70941884e-01,  -4.46893788e-01,\n",
       "        -4.22845691e-01,  -3.98797595e-01,  -3.74749499e-01,\n",
       "        -3.50701403e-01,  -3.26653307e-01,  -3.02605210e-01,\n",
       "        -2.78557114e-01,  -2.54509018e-01,  -2.30460922e-01,\n",
       "        -2.06412826e-01,  -1.82364729e-01,  -1.58316633e-01,\n",
       "        -1.34268537e-01,  -1.10220441e-01,  -8.61723447e-02,\n",
       "        -6.21242485e-02,  -3.80761523e-02,  -1.40280561e-02,\n",
       "         1.00200401e-02,   3.40681363e-02,   5.81162325e-02,\n",
       "         8.21643287e-02,   1.06212425e-01,   1.30260521e-01,\n",
       "         1.54308617e-01,   1.78356713e-01,   2.02404810e-01,\n",
       "         2.26452906e-01,   2.50501002e-01,   2.74549098e-01,\n",
       "         2.98597194e-01,   3.22645291e-01,   3.46693387e-01,\n",
       "         3.70741483e-01,   3.94789579e-01,   4.18837675e-01,\n",
       "         4.42885772e-01,   4.66933868e-01,   4.90981964e-01,\n",
       "         5.15030060e-01,   5.39078156e-01,   5.63126253e-01,\n",
       "         5.87174349e-01,   6.11222445e-01,   6.35270541e-01,\n",
       "         6.59318637e-01,   6.83366733e-01,   7.07414830e-01,\n",
       "         7.31462926e-01,   7.55511022e-01,   7.79559118e-01,\n",
       "         8.03607214e-01,   8.27655311e-01,   8.51703407e-01,\n",
       "         8.75751503e-01,   8.99799599e-01,   9.23847695e-01,\n",
       "         9.47895792e-01,   9.71943888e-01,   9.95991984e-01,\n",
       "         1.02004008e+00,   1.04408818e+00,   1.06813627e+00,\n",
       "         1.09218437e+00,   1.11623246e+00,   1.14028056e+00,\n",
       "         1.16432866e+00,   1.18837675e+00,   1.21242485e+00,\n",
       "         1.23647295e+00,   1.26052104e+00,   1.28456914e+00,\n",
       "         1.30861723e+00,   1.33266533e+00,   1.35671343e+00,\n",
       "         1.38076152e+00,   1.40480962e+00,   1.42885772e+00,\n",
       "         1.45290581e+00,   1.47695391e+00,   1.50100200e+00,\n",
       "         1.52505010e+00,   1.54909820e+00,   1.57314629e+00,\n",
       "         1.59719439e+00,   1.62124248e+00,   1.64529058e+00,\n",
       "         1.66933868e+00,   1.69338677e+00,   1.71743487e+00,\n",
       "         1.74148297e+00,   1.76553106e+00,   1.78957916e+00,\n",
       "         1.81362725e+00,   1.83767535e+00,   1.86172345e+00,\n",
       "         1.88577154e+00,   1.90981964e+00,   1.93386774e+00,\n",
       "         1.95791583e+00,   1.98196393e+00,   2.00601202e+00,\n",
       "         2.03006012e+00,   2.05410822e+00,   2.07815631e+00,\n",
       "         2.10220441e+00,   2.12625251e+00,   2.15030060e+00,\n",
       "         2.17434870e+00,   2.19839679e+00,   2.22244489e+00,\n",
       "         2.24649299e+00,   2.27054108e+00,   2.29458918e+00,\n",
       "         2.31863727e+00,   2.34268537e+00,   2.36673347e+00,\n",
       "         2.39078156e+00,   2.41482966e+00,   2.43887776e+00,\n",
       "         2.46292585e+00,   2.48697395e+00,   2.51102204e+00,\n",
       "         2.53507014e+00,   2.55911824e+00,   2.58316633e+00,\n",
       "         2.60721443e+00,   2.63126253e+00,   2.65531062e+00,\n",
       "         2.67935872e+00,   2.70340681e+00,   2.72745491e+00,\n",
       "         2.75150301e+00,   2.77555110e+00,   2.79959920e+00,\n",
       "         2.82364729e+00,   2.84769539e+00,   2.87174349e+00,\n",
       "         2.89579158e+00,   2.91983968e+00,   2.94388778e+00,\n",
       "         2.96793587e+00,   2.99198397e+00,   3.01603206e+00,\n",
       "         3.04008016e+00,   3.06412826e+00,   3.08817635e+00,\n",
       "         3.11222445e+00,   3.13627255e+00,   3.16032064e+00,\n",
       "         3.18436874e+00,   3.20841683e+00,   3.23246493e+00,\n",
       "         3.25651303e+00,   3.28056112e+00,   3.30460922e+00,\n",
       "         3.32865731e+00,   3.35270541e+00,   3.37675351e+00,\n",
       "         3.40080160e+00,   3.42484970e+00,   3.44889780e+00,\n",
       "         3.47294589e+00,   3.49699399e+00,   3.52104208e+00,\n",
       "         3.54509018e+00,   3.56913828e+00,   3.59318637e+00,\n",
       "         3.61723447e+00,   3.64128257e+00,   3.66533066e+00,\n",
       "         3.68937876e+00,   3.71342685e+00,   3.73747495e+00,\n",
       "         3.76152305e+00,   3.78557114e+00,   3.80961924e+00,\n",
       "         3.83366733e+00,   3.85771543e+00,   3.88176353e+00,\n",
       "         3.90581162e+00,   3.92985972e+00,   3.95390782e+00,\n",
       "         3.97795591e+00,   4.00200401e+00,   4.02605210e+00,\n",
       "         4.05010020e+00,   4.07414830e+00,   4.09819639e+00,\n",
       "         4.12224449e+00,   4.14629259e+00,   4.17034068e+00,\n",
       "         4.19438878e+00,   4.21843687e+00,   4.24248497e+00,\n",
       "         4.26653307e+00,   4.29058116e+00,   4.31462926e+00,\n",
       "         4.33867735e+00,   4.36272545e+00,   4.38677355e+00,\n",
       "         4.41082164e+00,   4.43486974e+00,   4.45891784e+00,\n",
       "         4.48296593e+00,   4.50701403e+00,   4.53106212e+00,\n",
       "         4.55511022e+00,   4.57915832e+00,   4.60320641e+00,\n",
       "         4.62725451e+00,   4.65130261e+00,   4.67535070e+00,\n",
       "         4.69939880e+00,   4.72344689e+00,   4.74749499e+00,\n",
       "         4.77154309e+00,   4.79559118e+00,   4.81963928e+00,\n",
       "         4.84368737e+00,   4.86773547e+00,   4.89178357e+00,\n",
       "         4.91583166e+00,   4.93987976e+00,   4.96392786e+00,\n",
       "         4.98797595e+00,   5.01202405e+00,   5.03607214e+00,\n",
       "         5.06012024e+00,   5.08416834e+00,   5.10821643e+00,\n",
       "         5.13226453e+00,   5.15631263e+00,   5.18036072e+00,\n",
       "         5.20440882e+00,   5.22845691e+00,   5.25250501e+00,\n",
       "         5.27655311e+00,   5.30060120e+00,   5.32464930e+00,\n",
       "         5.34869739e+00,   5.37274549e+00,   5.39679359e+00,\n",
       "         5.42084168e+00,   5.44488978e+00,   5.46893788e+00,\n",
       "         5.49298597e+00,   5.51703407e+00,   5.54108216e+00,\n",
       "         5.56513026e+00,   5.58917836e+00,   5.61322645e+00,\n",
       "         5.63727455e+00,   5.66132265e+00,   5.68537074e+00,\n",
       "         5.70941884e+00,   5.73346693e+00,   5.75751503e+00,\n",
       "         5.78156313e+00,   5.80561122e+00,   5.82965932e+00,\n",
       "         5.85370741e+00,   5.87775551e+00,   5.90180361e+00,\n",
       "         5.92585170e+00,   5.94989980e+00,   5.97394790e+00,\n",
       "         5.99799599e+00,   6.02204409e+00,   6.04609218e+00,\n",
       "         6.07014028e+00,   6.09418838e+00,   6.11823647e+00,\n",
       "         6.14228457e+00,   6.16633267e+00,   6.19038076e+00,\n",
       "         6.21442886e+00,   6.23847695e+00,   6.26252505e+00,\n",
       "         6.28657315e+00,   6.31062124e+00,   6.33466934e+00,\n",
       "         6.35871743e+00,   6.38276553e+00,   6.40681363e+00,\n",
       "         6.43086172e+00,   6.45490982e+00,   6.47895792e+00,\n",
       "         6.50300601e+00,   6.52705411e+00,   6.55110220e+00,\n",
       "         6.57515030e+00,   6.59919840e+00,   6.62324649e+00,\n",
       "         6.64729459e+00,   6.67134269e+00,   6.69539078e+00,\n",
       "         6.71943888e+00,   6.74348697e+00,   6.76753507e+00,\n",
       "         6.79158317e+00,   6.81563126e+00,   6.83967936e+00,\n",
       "         6.86372745e+00,   6.88777555e+00,   6.91182365e+00,\n",
       "         6.93587174e+00,   6.95991984e+00,   6.98396794e+00,\n",
       "         7.00801603e+00,   7.03206413e+00,   7.05611222e+00,\n",
       "         7.08016032e+00,   7.10420842e+00,   7.12825651e+00,\n",
       "         7.15230461e+00,   7.17635271e+00,   7.20040080e+00,\n",
       "         7.22444890e+00,   7.24849699e+00,   7.27254509e+00,\n",
       "         7.29659319e+00,   7.32064128e+00,   7.34468938e+00,\n",
       "         7.36873747e+00,   7.39278557e+00,   7.41683367e+00,\n",
       "         7.44088176e+00,   7.46492986e+00,   7.48897796e+00,\n",
       "         7.51302605e+00,   7.53707415e+00,   7.56112224e+00,\n",
       "         7.58517034e+00,   7.60921844e+00,   7.63326653e+00,\n",
       "         7.65731463e+00,   7.68136273e+00,   7.70541082e+00,\n",
       "         7.72945892e+00,   7.75350701e+00,   7.77755511e+00,\n",
       "         7.80160321e+00,   7.82565130e+00,   7.84969940e+00,\n",
       "         7.87374749e+00,   7.89779559e+00,   7.92184369e+00,\n",
       "         7.94589178e+00,   7.96993988e+00,   7.99398798e+00,\n",
       "         8.01803607e+00,   8.04208417e+00,   8.06613226e+00,\n",
       "         8.09018036e+00,   8.11422846e+00,   8.13827655e+00,\n",
       "         8.16232465e+00,   8.18637275e+00,   8.21042084e+00,\n",
       "         8.23446894e+00,   8.25851703e+00,   8.28256513e+00,\n",
       "         8.30661323e+00,   8.33066132e+00,   8.35470942e+00,\n",
       "         8.37875752e+00,   8.40280561e+00,   8.42685371e+00,\n",
       "         8.45090180e+00,   8.47494990e+00,   8.49899800e+00,\n",
       "         8.52304609e+00,   8.54709419e+00,   8.57114228e+00,\n",
       "         8.59519038e+00,   8.61923848e+00,   8.64328657e+00,\n",
       "         8.66733467e+00,   8.69138277e+00,   8.71543086e+00,\n",
       "         8.73947896e+00,   8.76352705e+00,   8.78757515e+00,\n",
       "         8.81162325e+00,   8.83567134e+00,   8.85971944e+00,\n",
       "         8.88376754e+00,   8.90781563e+00,   8.93186373e+00,\n",
       "         8.95591182e+00,   8.97995992e+00,   9.00400802e+00,\n",
       "         9.02805611e+00,   9.05210421e+00,   9.07615230e+00,\n",
       "         9.10020040e+00,   9.12424850e+00,   9.14829659e+00,\n",
       "         9.17234469e+00,   9.19639279e+00,   9.22044088e+00,\n",
       "         9.24448898e+00,   9.26853707e+00,   9.29258517e+00,\n",
       "         9.31663327e+00,   9.34068136e+00,   9.36472946e+00,\n",
       "         9.38877756e+00,   9.41282565e+00,   9.43687375e+00,\n",
       "         9.46092184e+00,   9.48496994e+00,   9.50901804e+00,\n",
       "         9.53306613e+00,   9.55711423e+00,   9.58116232e+00,\n",
       "         9.60521042e+00,   9.62925852e+00,   9.65330661e+00,\n",
       "         9.67735471e+00,   9.70140281e+00,   9.72545090e+00,\n",
       "         9.74949900e+00,   9.77354709e+00,   9.79759519e+00,\n",
       "         9.82164329e+00,   9.84569138e+00,   9.86973948e+00,\n",
       "         9.89378758e+00,   9.91783567e+00,   9.94188377e+00,\n",
       "         9.96593186e+00,   9.98997996e+00,   1.00140281e+01,\n",
       "         1.00380762e+01,   1.00621242e+01,   1.00861723e+01,\n",
       "         1.01102204e+01,   1.01342685e+01,   1.01583166e+01,\n",
       "         1.01823647e+01,   1.02064128e+01,   1.02304609e+01,\n",
       "         1.02545090e+01,   1.02785571e+01,   1.03026052e+01,\n",
       "         1.03266533e+01,   1.03507014e+01,   1.03747495e+01,\n",
       "         1.03987976e+01,   1.04228457e+01,   1.04468938e+01,\n",
       "         1.04709419e+01,   1.04949900e+01,   1.05190381e+01,\n",
       "         1.05430862e+01,   1.05671343e+01,   1.05911824e+01,\n",
       "         1.06152305e+01,   1.06392786e+01,   1.06633267e+01,\n",
       "         1.06873747e+01,   1.07114228e+01,   1.07354709e+01,\n",
       "         1.07595190e+01,   1.07835671e+01,   1.08076152e+01,\n",
       "         1.08316633e+01,   1.08557114e+01,   1.08797595e+01,\n",
       "         1.09038076e+01,   1.09278557e+01,   1.09519038e+01,\n",
       "         1.09759519e+01,   1.10000000e+01])"
      ]
     },
     "execution_count": 8,
     "metadata": {},
     "output_type": "execute_result"
    }
   ],
   "source": [
    "meshPoints= np.linspace(-1,11,500)\n",
    "meshPoints"
   ]
  },
  {
   "cell_type": "markdown",
   "metadata": {},
   "source": [
    "What expression will yield the value of the 53th element of meshPoints?\n",
    "What is this value?"
   ]
  },
  {
   "cell_type": "code",
   "execution_count": 9,
   "metadata": {
    "collapsed": false
   },
   "outputs": [
    {
     "data": {
      "text/plain": [
       "0.29859719438877752"
      ]
     },
     "execution_count": 9,
     "metadata": {},
     "output_type": "execute_result"
    }
   ],
   "source": [
    "meshPoints[54]"
   ]
  },
  {
   "cell_type": "markdown",
   "metadata": {},
   "source": [
    "Produce a plot of a sinusoid on the interval [-1; 1] using the command"
   ]
  },
  {
   "cell_type": "code",
   "execution_count": 10,
   "metadata": {
    "collapsed": true
   },
   "outputs": [],
   "source": [
    "import matplotlib.pylab as plt\n",
    "%matplotlib inline"
   ]
  },
  {
   "cell_type": "code",
   "execution_count": 11,
   "metadata": {
    "collapsed": false
   },
   "outputs": [
    {
     "data": {
      "image/png": "[encoded data removed]",
      "text/plain": [
       "<matplotlib.figure.Figure at 0x7bb9e80>"
      ]
     },
     "metadata": {},
     "output_type": "display_data"
    }
   ],
   "source": [
    "plt.plot(meshPoints,np.sin(2*pi*meshPoints));\n",
    "plt.savefig('sinmeshPoints.png')"
   ]
  },
  {
   "cell_type": "markdown",
   "metadata": {},
   "source": [
    "### Plotting \n"
   ]
  },
  {
   "cell_type": "markdown",
   "metadata": {},
   "source": [
    "Use matplotlib.pyplot.plot to produce a plot of the functions f(x) =\n",
    "e(-x/10) sin(pix) and g(x) = xe(-x/3) over the interval [0; 10]. Include labels\n",
    "for the x- and y-axes, and a legend explaining which line is which plot.\n",
    "Save the plot as a .jpg (\\Jpeg\") file and send me a copy with your work."
   ]
  },
  {
   "cell_type": "code",
   "execution_count": 12,
   "metadata": {
    "collapsed": false
   },
   "outputs": [
    {
     "data": {
      "image/png": "[encoded data removed]",
      "text/plain": [
       "<matplotlib.figure.Figure at 0x7b82eb8>"
      ]
     },
     "metadata": {},
     "output_type": "display_data"
    }
   ],
   "source": [
    "\n",
    "import matplotlib.pylab as plt\n",
    "%matplotlib inline\n",
    "x = np.linspace(0, 10, 1000)\n",
    "pi= np.pi\n",
    "f= np.exp((-x)/10)*np.sin(pi*x)\n",
    "g= x* np.exp((-x)/3)\n",
    "\n",
    "plt.title('Funciones')\n",
    "plt.xlabel('$x$')\n",
    "plt.ylabel('$y$')\n",
    "plt.plot(x, f, color=\"blue\", label=\"f (x)\")\n",
    "plt.plot(x,g , color=\"red\", label=\"g (x)\")\n",
    "plt.axhline(0, color=\"gray\", linestyle=\"--\")\n",
    "plt.legend();\n",
    "plt.savefig('funciones.jpg')\n",
    "\n",
    "\n",
    "\n"
   ]
  },
  {
   "cell_type": "markdown",
   "metadata": {},
   "source": [
    "### Plotting"
   ]
  },
  {
   "cell_type": "markdown",
   "metadata": {},
   "source": [
    "The shape of a limacon can be defined parametrically as:\n",
    "\n",
    "r = r0 + cos(theta)\n",
    "\n",
    "x = r cos(theta)\n",
    "\n",
    "y = r sin (theta)\n",
    "\n",
    "When r0 = 1, this curve is called a cardioid. Use this definition to plot\n",
    "the shape of a limacon for r0 = 0:8, r0 = 1:0, and r0 = 1:2. Be sure to\n",
    "use enough points that the curve is closed and appears smooth (except for\n",
    "the cusp in the cardioid). Use a legend to identify which curve is which.\n",
    "Save the plot as a .pdf file and send me a copy with your work.\n"
   ]
  },
  {
   "cell_type": "code",
   "execution_count": 17,
   "metadata": {
    "collapsed": false,
    "scrolled": true
   },
   "outputs": [
    {
     "data": {
      "image/png": "[encoded data removed]",
      "text/plain": [
       "<matplotlib.figure.Figure at 0x8a9bda0>"
      ]
     },
     "metadata": {},
     "output_type": "display_data"
    }
   ],
   "source": [
    "from matplotlib.backends.backend_pdf import PdfPages\n",
    "pp = PdfPages('limon.pdf')\n",
    "theta = np.linspace(0, 2*np.pi, 100)\n",
    "r = 0.8+np.cos(theta)\n",
    "x1 = r*np.cos(theta)\n",
    "x2 = r*np.sin(theta)\n",
    "fig, ax = plt.subplots(1)\n",
    "plt.plot(x1, x2)\n",
    "ax.set_aspect(1)\n",
    "plt.xlabel('$x$')\n",
    "plt.ylabel('$y$')\n",
    "plt.title('Limaçon r = 0.8');\n",
    "\n",
    "plt.savefig(pp, format='pdf')\n",
    "plt.savefig('limon1.jpg')\n",
    "\n"
   ]
  },
  {
   "cell_type": "code",
   "execution_count": 18,
   "metadata": {
    "collapsed": false
   },
   "outputs": [
    {
     "data": {
      "image/png": "[encoded data removed]",
      "text/plain": [
       "<matplotlib.figure.Figure at 0x8aa4860>"
      ]
     },
     "metadata": {},
     "output_type": "display_data"
    }
   ],
   "source": [
    "\n",
    "theta = np.linspace(0, 2*np.pi, 100)\n",
    "r = 1+np.cos(theta)\n",
    "x1 = r*np.cos(theta)\n",
    "x2 = r*np.sin(theta)\n",
    "fig, ax = plt.subplots(1)\n",
    "plt.plot(x1, x2)\n",
    "ax.set_aspect(1)\n",
    "plt.xlabel('$x$')\n",
    "plt.ylabel('$y$')\n",
    "plt.title('Limaçon r = 1');\n",
    "plt.savefig(pp, format='pdf')\n",
    "plt.savefig('limon2.jpg')"
   ]
  },
  {
   "cell_type": "code",
   "execution_count": 19,
   "metadata": {
    "collapsed": false
   },
   "outputs": [
    {
     "data": {
      "image/png": "[encoded data removed]",
      "text/plain": [
       "<matplotlib.figure.Figure at 0x9d4e518>"
      ]
     },
     "metadata": {},
     "output_type": "display_data"
    }
   ],
   "source": [
    "\n",
    "theta = np.linspace(0, 2*np.pi, 100)\n",
    "r = 1.2+np.cos(theta)\n",
    "x1 = r*np.cos(theta)\n",
    "x2 = r*np.sin(theta)\n",
    "fig, ax = plt.subplots(1)\n",
    "plot3 = ax.plot(x1, x2)\n",
    "ax.set_aspect(1)\n",
    "plt.xlabel('$x$')\n",
    "plt.ylabel('$y$')\n",
    "plt.title('Limaçon r = 1.2');\n",
    "plt.savefig(pp, format='pdf')\n",
    "plt.savefig('limon3.jpg')"
   ]
  },
  {
   "cell_type": "code",
   "execution_count": 20,
   "metadata": {
    "collapsed": false
   },
   "outputs": [],
   "source": [
    "pp.close()"
   ]
  },
  {
   "cell_type": "code",
   "execution_count": null,
   "metadata": {
    "collapsed": true
   },
   "outputs": [],
   "source": []
  }
 ],
 "metadata": {
  "anaconda-cloud": {},
  "kernelspec": {
   "display_name": "Python [Root]",
   "language": "python",
   "name": "Python [Root]"
  },
  "language_info": {
   "codemirror_mode": {
    "name": "ipython",
    "version": 3
   },
   "file_extension": ".py",
   "mimetype": "text/x-python",
   "name": "python",
   "nbconvert_exporter": "python",
   "pygments_lexer": "ipython3",
   "version": "3.5.2"
  }
 },
 "nbformat": 4,
 "nbformat_minor": 0
}
